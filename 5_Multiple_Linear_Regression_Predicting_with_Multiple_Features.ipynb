{
  "nbformat": 4,
  "nbformat_minor": 0,
  "metadata": {
    "colab": {
      "provenance": [],
      "authorship_tag": "ABX9TyPwseYBrNe3KvVwXx2VO5lR",
      "include_colab_link": true
    },
    "kernelspec": {
      "name": "python3",
      "display_name": "Python 3"
    },
    "language_info": {
      "name": "python"
    }
  },
  "cells": [
    {
      "cell_type": "markdown",
      "metadata": {
        "id": "view-in-github",
        "colab_type": "text"
      },
      "source": [
        "<a href=\"https://colab.research.google.com/github/ARJUN108-verma/Internship-at-Gudsky-Research-Foundation/blob/main/5_Multiple_Linear_Regression_Predicting_with_Multiple_Features.ipynb\" target=\"_parent\"><img src=\"https://colab.research.google.com/assets/colab-badge.svg\" alt=\"Open In Colab\"/></a>"
      ]
    },
    {
      "cell_type": "markdown",
      "source": [
        "#Multiple Linear Regression: Predicting with Multiple Features\n"
      ],
      "metadata": {
        "id": "IPYWduUNaRtd"
      }
    },
    {
      "cell_type": "code",
      "execution_count": 72,
      "metadata": {
        "id": "9QxLniwtaKR1"
      },
      "outputs": [],
      "source": [
        "#Introduction & Load Dataset\n",
        "import pandas as pd\n",
        "import numpy as np\n",
        "import matplotlib.pyplot as plt\n",
        "import seaborn as sns"
      ]
    },
    {
      "cell_type": "code",
      "source": [
        "# Load dataset\n",
        "df = pd.read_csv(\"/content/students-performance-in-exams.csv\")"
      ],
      "metadata": {
        "id": "fSHL4oi5akzP"
      },
      "execution_count": 73,
      "outputs": []
    },
    {
      "cell_type": "code",
      "source": [
        "print(df.head())"
      ],
      "metadata": {
        "colab": {
          "base_uri": "https://localhost:8080/"
        },
        "id": "nES30REBawmp",
        "outputId": "8efcf0a0-9e6f-483b-a75a-82fe940b7ed1"
      },
      "execution_count": 74,
      "outputs": [
        {
          "output_type": "stream",
          "name": "stdout",
          "text": [
            "   gender race/ethnicity parental level of education         lunch  \\\n",
            "0  female        group B           bachelor's degree      standard   \n",
            "1  female        group C                some college      standard   \n",
            "2  female        group B             master's degree      standard   \n",
            "3    male        group A          associate's degree  free/reduced   \n",
            "4    male        group C                some college      standard   \n",
            "\n",
            "  test preparation course  math score  reading score  writing score  \n",
            "0                    none          72             72             74  \n",
            "1               completed          69             90             88  \n",
            "2                    none          90             95             93  \n",
            "3                    none          47             57             44  \n",
            "4                    none          76             78             75  \n"
          ]
        }
      ]
    },
    {
      "cell_type": "code",
      "source": [
        "print(df.info())"
      ],
      "metadata": {
        "colab": {
          "base_uri": "https://localhost:8080/"
        },
        "id": "oEAV7TiCa5NE",
        "outputId": "7750813d-88fd-4fc7-e497-b102796978c1"
      },
      "execution_count": 75,
      "outputs": [
        {
          "output_type": "stream",
          "name": "stdout",
          "text": [
            "<class 'pandas.core.frame.DataFrame'>\n",
            "RangeIndex: 1000 entries, 0 to 999\n",
            "Data columns (total 8 columns):\n",
            " #   Column                       Non-Null Count  Dtype \n",
            "---  ------                       --------------  ----- \n",
            " 0   gender                       1000 non-null   object\n",
            " 1   race/ethnicity               1000 non-null   object\n",
            " 2   parental level of education  1000 non-null   object\n",
            " 3   lunch                        1000 non-null   object\n",
            " 4   test preparation course      1000 non-null   object\n",
            " 5   math score                   1000 non-null   int64 \n",
            " 6   reading score                1000 non-null   int64 \n",
            " 7   writing score                1000 non-null   int64 \n",
            "dtypes: int64(3), object(5)\n",
            "memory usage: 62.6+ KB\n",
            "None\n"
          ]
        }
      ]
    },
    {
      "cell_type": "code",
      "source": [
        "print(df.describe())"
      ],
      "metadata": {
        "colab": {
          "base_uri": "https://localhost:8080/"
        },
        "id": "JWSWHGwZa9N8",
        "outputId": "ddeeacd7-81a1-4e8d-e7a2-1a41ac196057"
      },
      "execution_count": 76,
      "outputs": [
        {
          "output_type": "stream",
          "name": "stdout",
          "text": [
            "       math score  reading score  writing score\n",
            "count  1000.00000    1000.000000    1000.000000\n",
            "mean     66.08900      69.169000      68.054000\n",
            "std      15.16308      14.600192      15.195657\n",
            "min       0.00000      17.000000      10.000000\n",
            "25%      57.00000      59.000000      57.750000\n",
            "50%      66.00000      70.000000      69.000000\n",
            "75%      77.00000      79.000000      79.000000\n",
            "max     100.00000     100.000000     100.000000\n"
          ]
        }
      ]
    },
    {
      "cell_type": "code",
      "source": [
        "#Data Exploration\n",
        "# Histograms of scores\n",
        "df[['math score','reading score','writing score']].hist(figsize=(10,4))\n",
        "plt.suptitle(\"Score Distribution\")\n",
        "plt.show()"
      ],
      "metadata": {
        "colab": {
          "base_uri": "https://localhost:8080/",
          "height": 408
        },
        "id": "Vc3LvJg1bBsM",
        "outputId": "f32d6763-8184-44af-882a-837d4a383c58"
      },
      "execution_count": 77,
      "outputs": [
        {
          "output_type": "display_data",
          "data": {
            "text/plain": [
              "<Figure size 1000x400 with 4 Axes>"
            ],
            "image/png": "[encoded data removed]"
          },
          "metadata": {}
        }
      ]
    },
    {
      "cell_type": "code",
      "source": [
        "# Bar plot: parental education vs math score\n",
        "plt.figure(figsize=(10,5))\n",
        "sns.barplot(x='parental level of education', y='math score', data=df)\n",
        "plt.xticks(rotation=45)\n",
        "plt.title(\"Parental Education vs Math Score\")\n",
        "plt.show()"
      ],
      "metadata": {
        "colab": {
          "base_uri": "https://localhost:8080/",
          "height": 575
        },
        "id": "GcoMJlhLbG9Y",
        "outputId": "75424cc9-42a9-4962-e98a-f9a2a5dce973"
      },
      "execution_count": 78,
      "outputs": [
        {
          "output_type": "display_data",
          "data": {
            "text/plain": [
              "<Figure size 1000x500 with 1 Axes>"
            ],
            "image/png": "[encoded data removed]"
          },
          "metadata": {}
        }
      ]
    },
    {
      "cell_type": "code",
      "source": [
        "# Gender vs mean scores\n",
        "print(\"\\nMean scores by gender:\\n\", df.groupby('gender')[['math score','reading score','writing score']].mean())"
      ],
      "metadata": {
        "colab": {
          "base_uri": "https://localhost:8080/"
        },
        "id": "gBa7KCfMbNUE",
        "outputId": "081b68d2-97e8-407a-d708-7dd0435b6eaa"
      },
      "execution_count": 79,
      "outputs": [
        {
          "output_type": "stream",
          "name": "stdout",
          "text": [
            "\n",
            "Mean scores by gender:\n",
            "         math score  reading score  writing score\n",
            "gender                                          \n",
            "female   63.633205      72.608108      72.467181\n",
            "male     68.728216      65.473029      63.311203\n"
          ]
        }
      ]
    },
    {
      "cell_type": "code",
      "source": [
        "#Correlation Analysis\n",
        "corr = df[['math score','reading score','writing score']].corr()\n",
        "plt.figure(figsize=(6,4))\n",
        "sns.heatmap(corr, annot=True, cmap='coolwarm')\n",
        "plt.title(\"Correlation Heatmap\")\n",
        "plt.show()"
      ],
      "metadata": {
        "colab": {
          "base_uri": "https://localhost:8080/",
          "height": 391
        },
        "id": "7HKx3bX3bRGB",
        "outputId": "62960b57-d7e4-4640-ccb6-d61f83b2751b"
      },
      "execution_count": 80,
      "outputs": [
        {
          "output_type": "display_data",
          "data": {
            "text/plain": [
              "<Figure size 600x400 with 2 Axes>"
            ],
            "image/png": "[encoded data removed]"
          },
          "metadata": {}
        }
      ]
    },
    {
      "cell_type": "code",
      "source": [
        "#Feature Selection\n",
        "# Target variable\n",
        "y = df['math score']"
      ],
      "metadata": {
        "id": "pqBafb_AdaKf"
      },
      "execution_count": 81,
      "outputs": []
    },
    {
      "cell_type": "code",
      "source": [
        "# Selected features\n",
        "X = df[['reading score', 'writing score', 'gender', 'lunch',\n",
        "        'test preparation course', 'parental level of education']]\n"
      ],
      "metadata": {
        "id": "0wCDvOu-dpEm"
      },
      "execution_count": 82,
      "outputs": []
    },
    {
      "cell_type": "code",
      "source": [
        "# Check first few rows\n",
        "print(\"Selected features:\\n\", X.head())\n",
        "print(\"\\nTarget variable:\\n\", y.head())"
      ],
      "metadata": {
        "colab": {
          "base_uri": "https://localhost:8080/"
        },
        "id": "H1DW-s2Mdsln",
        "outputId": "9daf2fd9-84c6-4220-fd72-c041d3cd0124"
      },
      "execution_count": 83,
      "outputs": [
        {
          "output_type": "stream",
          "name": "stdout",
          "text": [
            "Selected features:\n",
            "    reading score  writing score  gender         lunch test preparation course  \\\n",
            "0             72             74  female      standard                    none   \n",
            "1             90             88  female      standard               completed   \n",
            "2             95             93  female      standard                    none   \n",
            "3             57             44    male  free/reduced                    none   \n",
            "4             78             75    male      standard                    none   \n",
            "\n",
            "  parental level of education  \n",
            "0           bachelor's degree  \n",
            "1                some college  \n",
            "2             master's degree  \n",
            "3          associate's degree  \n",
            "4                some college  \n",
            "\n",
            "Target variable:\n",
            " 0    72\n",
            "1    69\n",
            "2    90\n",
            "3    47\n",
            "4    76\n",
            "Name: math score, dtype: int64\n"
          ]
        }
      ]
    },
    {
      "cell_type": "code",
      "source": [
        "#Encoding Categorical Variables\n",
        "df_encoded = pd.get_dummies(df, columns=['gender','lunch','test preparation course','parental level of education'], drop_first=True)\n",
        "print(\"\\nEncoded columns:\\n\", df_encoded.head())"
      ],
      "metadata": {
        "colab": {
          "base_uri": "https://localhost:8080/"
        },
        "id": "2gL2kHL4brPw",
        "outputId": "4da52fbb-1124-49ee-ff37-2b7a2a88aafe"
      },
      "execution_count": 84,
      "outputs": [
        {
          "output_type": "stream",
          "name": "stdout",
          "text": [
            "\n",
            "Encoded columns:\n",
            "   race/ethnicity  math score  reading score  writing score  gender_male  \\\n",
            "0        group B          72             72             74        False   \n",
            "1        group C          69             90             88        False   \n",
            "2        group B          90             95             93        False   \n",
            "3        group A          47             57             44         True   \n",
            "4        group C          76             78             75         True   \n",
            "\n",
            "   lunch_standard  test preparation course_none  \\\n",
            "0            True                          True   \n",
            "1            True                         False   \n",
            "2            True                          True   \n",
            "3           False                          True   \n",
            "4            True                          True   \n",
            "\n",
            "   parental level of education_bachelor's degree  \\\n",
            "0                                           True   \n",
            "1                                          False   \n",
            "2                                          False   \n",
            "3                                          False   \n",
            "4                                          False   \n",
            "\n",
            "   parental level of education_high school  \\\n",
            "0                                    False   \n",
            "1                                    False   \n",
            "2                                    False   \n",
            "3                                    False   \n",
            "4                                    False   \n",
            "\n",
            "   parental level of education_master's degree  \\\n",
            "0                                        False   \n",
            "1                                        False   \n",
            "2                                         True   \n",
            "3                                        False   \n",
            "4                                        False   \n",
            "\n",
            "   parental level of education_some college  \\\n",
            "0                                     False   \n",
            "1                                      True   \n",
            "2                                     False   \n",
            "3                                     False   \n",
            "4                                      True   \n",
            "\n",
            "   parental level of education_some high school  \n",
            "0                                         False  \n",
            "1                                         False  \n",
            "2                                         False  \n",
            "3                                         False  \n",
            "4                                         False  \n"
          ]
        }
      ]
    },
    {
      "cell_type": "code",
      "source": [
        "# Convert categorical variables into numeric\n",
        "X_encoded = pd.get_dummies(X, drop_first=True)\n",
        "\n",
        "# Check the encoded columns\n",
        "print(X_encoded.head())"
      ],
      "metadata": {
        "colab": {
          "base_uri": "https://localhost:8080/"
        },
        "id": "o2LqYyFjfofI",
        "outputId": "46089f5d-d6a3-445e-d4bb-40e92003bda3"
      },
      "execution_count": 85,
      "outputs": [
        {
          "output_type": "stream",
          "name": "stdout",
          "text": [
            "   reading score  writing score  gender_male  lunch_standard  \\\n",
            "0             72             74        False            True   \n",
            "1             90             88        False            True   \n",
            "2             95             93        False            True   \n",
            "3             57             44         True           False   \n",
            "4             78             75         True            True   \n",
            "\n",
            "   test preparation course_none  \\\n",
            "0                          True   \n",
            "1                         False   \n",
            "2                          True   \n",
            "3                          True   \n",
            "4                          True   \n",
            "\n",
            "   parental level of education_bachelor's degree  \\\n",
            "0                                           True   \n",
            "1                                          False   \n",
            "2                                          False   \n",
            "3                                          False   \n",
            "4                                          False   \n",
            "\n",
            "   parental level of education_high school  \\\n",
            "0                                    False   \n",
            "1                                    False   \n",
            "2                                    False   \n",
            "3                                    False   \n",
            "4                                    False   \n",
            "\n",
            "   parental level of education_master's degree  \\\n",
            "0                                        False   \n",
            "1                                        False   \n",
            "2                                         True   \n",
            "3                                        False   \n",
            "4                                        False   \n",
            "\n",
            "   parental level of education_some college  \\\n",
            "0                                     False   \n",
            "1                                      True   \n",
            "2                                     False   \n",
            "3                                     False   \n",
            "4                                      True   \n",
            "\n",
            "   parental level of education_some high school  \n",
            "0                                         False  \n",
            "1                                         False  \n",
            "2                                         False  \n",
            "3                                         False  \n",
            "4                                         False  \n"
          ]
        }
      ]
    },
    {
      "cell_type": "code",
      "source": [
        "from sklearn.model_selection import train_test_split\n",
        "\n",
        "X = df_encoded.drop('math score', axis=1)\n",
        "y = df_encoded['math score']\n",
        "\n",
        "X_train, X_test, y_train, y_test = train_test_split(X_encoded, y, test_size=0.2, random_state=42)\n"
      ],
      "metadata": {
        "id": "poCLwwnVfvh1"
      },
      "execution_count": 86,
      "outputs": []
    },
    {
      "cell_type": "code",
      "source": [
        "#Model Training\n",
        "from sklearn.linear_model import LinearRegression\n",
        "\n",
        "lr = LinearRegression()\n",
        "lr.fit(X_train, y_train)"
      ],
      "metadata": {
        "colab": {
          "base_uri": "https://localhost:8080/",
          "height": 80
        },
        "id": "ub91Nsn7byTt",
        "outputId": "832a12d4-e5e9-4ad7-c04d-6bbe464bdbb7"
      },
      "execution_count": 87,
      "outputs": [
        {
          "output_type": "execute_result",
          "data": {
            "text/plain": [
              "LinearRegression()"
            ],
            "text/html": [
              "<style>#sk-container-id-2 {\n",
              "  /* Definition of color scheme common for light and dark mode */\n",
              "  --sklearn-color-text: #000;\n",
              "  --sklearn-color-text-muted: #666;\n",
              "  --sklearn-color-line: gray;\n",
              "  /* Definition of color scheme for unfitted estimators */\n",
              "  --sklearn-color-unfitted-level-0: #fff5e6;\n",
              "  --sklearn-color-unfitted-level-1: #f6e4d2;\n",
              "  --sklearn-color-unfitted-level-2: #ffe0b3;\n",
              "  --sklearn-color-unfitted-level-3: chocolate;\n",
              "  /* Definition of color scheme for fitted estimators */\n",
              "  --sklearn-color-fitted-level-0: #f0f8ff;\n",
              "  --sklearn-color-fitted-level-1: #d4ebff;\n",
              "  --sklearn-color-fitted-level-2: #b3dbfd;\n",
              "  --sklearn-color-fitted-level-3: cornflowerblue;\n",
              "\n",
              "  /* Specific color for light theme */\n",
              "  --sklearn-color-text-on-default-background: var(--sg-text-color, var(--theme-code-foreground, var(--jp-content-font-color1, black)));\n",
              "  --sklearn-color-background: var(--sg-background-color, var(--theme-background, var(--jp-layout-color0, white)));\n",
              "  --sklearn-color-border-box: var(--sg-text-color, var(--theme-code-foreground, var(--jp-content-font-color1, black)));\n",
              "  --sklearn-color-icon: #696969;\n",
              "\n",
              "  @media (prefers-color-scheme: dark) {\n",
              "    /* Redefinition of color scheme for dark theme */\n",
              "    --sklearn-color-text-on-default-background: var(--sg-text-color, var(--theme-code-foreground, var(--jp-content-font-color1, white)));\n",
              "    --sklearn-color-background: var(--sg-background-color, var(--theme-background, var(--jp-layout-color0, #111)));\n",
              "    --sklearn-color-border-box: var(--sg-text-color, var(--theme-code-foreground, var(--jp-content-font-color1, white)));\n",
              "    --sklearn-color-icon: #878787;\n",
              "  }\n",
              "}\n",
              "\n",
              "#sk-container-id-2 {\n",
              "  color: var(--sklearn-color-text);\n",
              "}\n",
              "\n",
              "#sk-container-id-2 pre {\n",
              "  padding: 0;\n",
              "}\n",
              "\n",
              "#sk-container-id-2 input.sk-hidden--visually {\n",
              "  border: 0;\n",
              "  clip: rect(1px 1px 1px 1px);\n",
              "  clip: rect(1px, 1px, 1px, 1px);\n",
              "  height: 1px;\n",
              "  margin: -1px;\n",
              "  overflow: hidden;\n",
              "  padding: 0;\n",
              "  position: absolute;\n",
              "  width: 1px;\n",
              "}\n",
              "\n",
              "#sk-container-id-2 div.sk-dashed-wrapped {\n",
              "  border: 1px dashed var(--sklearn-color-line);\n",
              "  margin: 0 0.4em 0.5em 0.4em;\n",
              "  box-sizing: border-box;\n",
              "  padding-bottom: 0.4em;\n",
              "  background-color: var(--sklearn-color-background);\n",
              "}\n",
              "\n",
              "#sk-container-id-2 div.sk-container {\n",
              "  /* jupyter's `normalize.less` sets `[hidden] { display: none; }`\n",
              "     but bootstrap.min.css set `[hidden] { display: none !important; }`\n",
              "     so we also need the `!important` here to be able to override the\n",
              "     default hidden behavior on the sphinx rendered scikit-learn.org.\n",
              "     See: https://github.com/scikit-learn/scikit-learn/issues/21755 */\n",
              "  display: inline-block !important;\n",
              "  position: relative;\n",
              "}\n",
              "\n",
              "#sk-container-id-2 div.sk-text-repr-fallback {\n",
              "  display: none;\n",
              "}\n",
              "\n",
              "div.sk-parallel-item,\n",
              "div.sk-serial,\n",
              "div.sk-item {\n",
              "  /* draw centered vertical line to link estimators */\n",
              "  background-image: linear-gradient(var(--sklearn-color-text-on-default-background), var(--sklearn-color-text-on-default-background));\n",
              "  background-size: 2px 100%;\n",
              "  background-repeat: no-repeat;\n",
              "  background-position: center center;\n",
              "}\n",
              "\n",
              "/* Parallel-specific style estimator block */\n",
              "\n",
              "#sk-container-id-2 div.sk-parallel-item::after {\n",
              "  content: \"\";\n",
              "  width: 100%;\n",
              "  border-bottom: 2px solid var(--sklearn-color-text-on-default-background);\n",
              "  flex-grow: 1;\n",
              "}\n",
              "\n",
              "#sk-container-id-2 div.sk-parallel {\n",
              "  display: flex;\n",
              "  align-items: stretch;\n",
              "  justify-content: center;\n",
              "  background-color: var(--sklearn-color-background);\n",
              "  position: relative;\n",
              "}\n",
              "\n",
              "#sk-container-id-2 div.sk-parallel-item {\n",
              "  display: flex;\n",
              "  flex-direction: column;\n",
              "}\n",
              "\n",
              "#sk-container-id-2 div.sk-parallel-item:first-child::after {\n",
              "  align-self: flex-end;\n",
              "  width: 50%;\n",
              "}\n",
              "\n",
              "#sk-container-id-2 div.sk-parallel-item:last-child::after {\n",
              "  align-self: flex-start;\n",
              "  width: 50%;\n",
              "}\n",
              "\n",
              "#sk-container-id-2 div.sk-parallel-item:only-child::after {\n",
              "  width: 0;\n",
              "}\n",
              "\n",
              "/* Serial-specific style estimator block */\n",
              "\n",
              "#sk-container-id-2 div.sk-serial {\n",
              "  display: flex;\n",
              "  flex-direction: column;\n",
              "  align-items: center;\n",
              "  background-color: var(--sklearn-color-background);\n",
              "  padding-right: 1em;\n",
              "  padding-left: 1em;\n",
              "}\n",
              "\n",
              "\n",
              "/* Toggleable style: style used for estimator/Pipeline/ColumnTransformer box that is\n",
              "clickable and can be expanded/collapsed.\n",
              "- Pipeline and ColumnTransformer use this feature and define the default style\n",
              "- Estimators will overwrite some part of the style using the `sk-estimator` class\n",
              "*/\n",
              "\n",
              "/* Pipeline and ColumnTransformer style (default) */\n",
              "\n",
              "#sk-container-id-2 div.sk-toggleable {\n",
              "  /* Default theme specific background. It is overwritten whether we have a\n",
              "  specific estimator or a Pipeline/ColumnTransformer */\n",
              "  background-color: var(--sklearn-color-background);\n",
              "}\n",
              "\n",
              "/* Toggleable label */\n",
              "#sk-container-id-2 label.sk-toggleable__label {\n",
              "  cursor: pointer;\n",
              "  display: flex;\n",
              "  width: 100%;\n",
              "  margin-bottom: 0;\n",
              "  padding: 0.5em;\n",
              "  box-sizing: border-box;\n",
              "  text-align: center;\n",
              "  align-items: start;\n",
              "  justify-content: space-between;\n",
              "  gap: 0.5em;\n",
              "}\n",
              "\n",
              "#sk-container-id-2 label.sk-toggleable__label .caption {\n",
              "  font-size: 0.6rem;\n",
              "  font-weight: lighter;\n",
              "  color: var(--sklearn-color-text-muted);\n",
              "}\n",
              "\n",
              "#sk-container-id-2 label.sk-toggleable__label-arrow:before {\n",
              "  /* Arrow on the left of the label */\n",
              "  content: \"▸\";\n",
              "  float: left;\n",
              "  margin-right: 0.25em;\n",
              "  color: var(--sklearn-color-icon);\n",
              "}\n",
              "\n",
              "#sk-container-id-2 label.sk-toggleable__label-arrow:hover:before {\n",
              "  color: var(--sklearn-color-text);\n",
              "}\n",
              "\n",
              "/* Toggleable content - dropdown */\n",
              "\n",
              "#sk-container-id-2 div.sk-toggleable__content {\n",
              "  max-height: 0;\n",
              "  max-width: 0;\n",
              "  overflow: hidden;\n",
              "  text-align: left;\n",
              "  /* unfitted */\n",
              "  background-color: var(--sklearn-color-unfitted-level-0);\n",
              "}\n",
              "\n",
              "#sk-container-id-2 div.sk-toggleable__content.fitted {\n",
              "  /* fitted */\n",
              "  background-color: var(--sklearn-color-fitted-level-0);\n",
              "}\n",
              "\n",
              "#sk-container-id-2 div.sk-toggleable__content pre {\n",
              "  margin: 0.2em;\n",
              "  border-radius: 0.25em;\n",
              "  color: var(--sklearn-color-text);\n",
              "  /* unfitted */\n",
              "  background-color: var(--sklearn-color-unfitted-level-0);\n",
              "}\n",
              "\n",
              "#sk-container-id-2 div.sk-toggleable__content.fitted pre {\n",
              "  /* unfitted */\n",
              "  background-color: var(--sklearn-color-fitted-level-0);\n",
              "}\n",
              "\n",
              "#sk-container-id-2 input.sk-toggleable__control:checked~div.sk-toggleable__content {\n",
              "  /* Expand drop-down */\n",
              "  max-height: 200px;\n",
              "  max-width: 100%;\n",
              "  overflow: auto;\n",
              "}\n",
              "\n",
              "#sk-container-id-2 input.sk-toggleable__control:checked~label.sk-toggleable__label-arrow:before {\n",
              "  content: \"▾\";\n",
              "}\n",
              "\n",
              "/* Pipeline/ColumnTransformer-specific style */\n",
              "\n",
              "#sk-container-id-2 div.sk-label input.sk-toggleable__control:checked~label.sk-toggleable__label {\n",
              "  color: var(--sklearn-color-text);\n",
              "  background-color: var(--sklearn-color-unfitted-level-2);\n",
              "}\n",
              "\n",
              "#sk-container-id-2 div.sk-label.fitted input.sk-toggleable__control:checked~label.sk-toggleable__label {\n",
              "  background-color: var(--sklearn-color-fitted-level-2);\n",
              "}\n",
              "\n",
              "/* Estimator-specific style */\n",
              "\n",
              "/* Colorize estimator box */\n",
              "#sk-container-id-2 div.sk-estimator input.sk-toggleable__control:checked~label.sk-toggleable__label {\n",
              "  /* unfitted */\n",
              "  background-color: var(--sklearn-color-unfitted-level-2);\n",
              "}\n",
              "\n",
              "#sk-container-id-2 div.sk-estimator.fitted input.sk-toggleable__control:checked~label.sk-toggleable__label {\n",
              "  /* fitted */\n",
              "  background-color: var(--sklearn-color-fitted-level-2);\n",
              "}\n",
              "\n",
              "#sk-container-id-2 div.sk-label label.sk-toggleable__label,\n",
              "#sk-container-id-2 div.sk-label label {\n",
              "  /* The background is the default theme color */\n",
              "  color: var(--sklearn-color-text-on-default-background);\n",
              "}\n",
              "\n",
              "/* On hover, darken the color of the background */\n",
              "#sk-container-id-2 div.sk-label:hover label.sk-toggleable__label {\n",
              "  color: var(--sklearn-color-text);\n",
              "  background-color: var(--sklearn-color-unfitted-level-2);\n",
              "}\n",
              "\n",
              "/* Label box, darken color on hover, fitted */\n",
              "#sk-container-id-2 div.sk-label.fitted:hover label.sk-toggleable__label.fitted {\n",
              "  color: var(--sklearn-color-text);\n",
              "  background-color: var(--sklearn-color-fitted-level-2);\n",
              "}\n",
              "\n",
              "/* Estimator label */\n",
              "\n",
              "#sk-container-id-2 div.sk-label label {\n",
              "  font-family: monospace;\n",
              "  font-weight: bold;\n",
              "  display: inline-block;\n",
              "  line-height: 1.2em;\n",
              "}\n",
              "\n",
              "#sk-container-id-2 div.sk-label-container {\n",
              "  text-align: center;\n",
              "}\n",
              "\n",
              "/* Estimator-specific */\n",
              "#sk-container-id-2 div.sk-estimator {\n",
              "  font-family: monospace;\n",
              "  border: 1px dotted var(--sklearn-color-border-box);\n",
              "  border-radius: 0.25em;\n",
              "  box-sizing: border-box;\n",
              "  margin-bottom: 0.5em;\n",
              "  /* unfitted */\n",
              "  background-color: var(--sklearn-color-unfitted-level-0);\n",
              "}\n",
              "\n",
              "#sk-container-id-2 div.sk-estimator.fitted {\n",
              "  /* fitted */\n",
              "  background-color: var(--sklearn-color-fitted-level-0);\n",
              "}\n",
              "\n",
              "/* on hover */\n",
              "#sk-container-id-2 div.sk-estimator:hover {\n",
              "  /* unfitted */\n",
              "  background-color: var(--sklearn-color-unfitted-level-2);\n",
              "}\n",
              "\n",
              "#sk-container-id-2 div.sk-estimator.fitted:hover {\n",
              "  /* fitted */\n",
              "  background-color: var(--sklearn-color-fitted-level-2);\n",
              "}\n",
              "\n",
              "/* Specification for estimator info (e.g. \"i\" and \"?\") */\n",
              "\n",
              "/* Common style for \"i\" and \"?\" */\n",
              "\n",
              ".sk-estimator-doc-link,\n",
              "a:link.sk-estimator-doc-link,\n",
              "a:visited.sk-estimator-doc-link {\n",
              "  float: right;\n",
              "  font-size: smaller;\n",
              "  line-height: 1em;\n",
              "  font-family: monospace;\n",
              "  background-color: var(--sklearn-color-background);\n",
              "  border-radius: 1em;\n",
              "  height: 1em;\n",
              "  width: 1em;\n",
              "  text-decoration: none !important;\n",
              "  margin-left: 0.5em;\n",
              "  text-align: center;\n",
              "  /* unfitted */\n",
              "  border: var(--sklearn-color-unfitted-level-1) 1pt solid;\n",
              "  color: var(--sklearn-color-unfitted-level-1);\n",
              "}\n",
              "\n",
              ".sk-estimator-doc-link.fitted,\n",
              "a:link.sk-estimator-doc-link.fitted,\n",
              "a:visited.sk-estimator-doc-link.fitted {\n",
              "  /* fitted */\n",
              "  border: var(--sklearn-color-fitted-level-1) 1pt solid;\n",
              "  color: var(--sklearn-color-fitted-level-1);\n",
              "}\n",
              "\n",
              "/* On hover */\n",
              "div.sk-estimator:hover .sk-estimator-doc-link:hover,\n",
              ".sk-estimator-doc-link:hover,\n",
              "div.sk-label-container:hover .sk-estimator-doc-link:hover,\n",
              ".sk-estimator-doc-link:hover {\n",
              "  /* unfitted */\n",
              "  background-color: var(--sklearn-color-unfitted-level-3);\n",
              "  color: var(--sklearn-color-background);\n",
              "  text-decoration: none;\n",
              "}\n",
              "\n",
              "div.sk-estimator.fitted:hover .sk-estimator-doc-link.fitted:hover,\n",
              ".sk-estimator-doc-link.fitted:hover,\n",
              "div.sk-label-container:hover .sk-estimator-doc-link.fitted:hover,\n",
              ".sk-estimator-doc-link.fitted:hover {\n",
              "  /* fitted */\n",
              "  background-color: var(--sklearn-color-fitted-level-3);\n",
              "  color: var(--sklearn-color-background);\n",
              "  text-decoration: none;\n",
              "}\n",
              "\n",
              "/* Span, style for the box shown on hovering the info icon */\n",
              ".sk-estimator-doc-link span {\n",
              "  display: none;\n",
              "  z-index: 9999;\n",
              "  position: relative;\n",
              "  font-weight: normal;\n",
              "  right: .2ex;\n",
              "  padding: .5ex;\n",
              "  margin: .5ex;\n",
              "  width: min-content;\n",
              "  min-width: 20ex;\n",
              "  max-width: 50ex;\n",
              "  color: var(--sklearn-color-text);\n",
              "  box-shadow: 2pt 2pt 4pt #999;\n",
              "  /* unfitted */\n",
              "  background: var(--sklearn-color-unfitted-level-0);\n",
              "  border: .5pt solid var(--sklearn-color-unfitted-level-3);\n",
              "}\n",
              "\n",
              ".sk-estimator-doc-link.fitted span {\n",
              "  /* fitted */\n",
              "  background: var(--sklearn-color-fitted-level-0);\n",
              "  border: var(--sklearn-color-fitted-level-3);\n",
              "}\n",
              "\n",
              ".sk-estimator-doc-link:hover span {\n",
              "  display: block;\n",
              "}\n",
              "\n",
              "/* \"?\"-specific style due to the `<a>` HTML tag */\n",
              "\n",
              "#sk-container-id-2 a.estimator_doc_link {\n",
              "  float: right;\n",
              "  font-size: 1rem;\n",
              "  line-height: 1em;\n",
              "  font-family: monospace;\n",
              "  background-color: var(--sklearn-color-background);\n",
              "  border-radius: 1rem;\n",
              "  height: 1rem;\n",
              "  width: 1rem;\n",
              "  text-decoration: none;\n",
              "  /* unfitted */\n",
              "  color: var(--sklearn-color-unfitted-level-1);\n",
              "  border: var(--sklearn-color-unfitted-level-1) 1pt solid;\n",
              "}\n",
              "\n",
              "#sk-container-id-2 a.estimator_doc_link.fitted {\n",
              "  /* fitted */\n",
              "  border: var(--sklearn-color-fitted-level-1) 1pt solid;\n",
              "  color: var(--sklearn-color-fitted-level-1);\n",
              "}\n",
              "\n",
              "/* On hover */\n",
              "#sk-container-id-2 a.estimator_doc_link:hover {\n",
              "  /* unfitted */\n",
              "  background-color: var(--sklearn-color-unfitted-level-3);\n",
              "  color: var(--sklearn-color-background);\n",
              "  text-decoration: none;\n",
              "}\n",
              "\n",
              "#sk-container-id-2 a.estimator_doc_link.fitted:hover {\n",
              "  /* fitted */\n",
              "  background-color: var(--sklearn-color-fitted-level-3);\n",
              "}\n",
              "</style><div id=\"sk-container-id-2\" class=\"sk-top-container\"><div class=\"sk-text-repr-fallback\"><pre>LinearRegression()</pre><b>In a Jupyter environment, please rerun this cell to show the HTML representation or trust the notebook. <br />On GitHub, the HTML representation is unable to render, please try loading this page with nbviewer.org.</b></div><div class=\"sk-container\" hidden><div class=\"sk-item\"><div class=\"sk-estimator fitted sk-toggleable\"><input class=\"sk-toggleable__control sk-hidden--visually\" id=\"sk-estimator-id-2\" type=\"checkbox\" checked><label for=\"sk-estimator-id-2\" class=\"sk-toggleable__label fitted sk-toggleable__label-arrow\"><div><div>LinearRegression</div></div><div><a class=\"sk-estimator-doc-link fitted\" rel=\"noreferrer\" target=\"_blank\" href=\"https://scikit-learn.org/1.6/modules/generated/sklearn.linear_model.LinearRegression.html\">?<span>Documentation for LinearRegression</span></a><span class=\"sk-estimator-doc-link fitted\">i<span>Fitted</span></span></div></label><div class=\"sk-toggleable__content fitted\"><pre>LinearRegression()</pre></div> </div></div></div></div>"
            ]
          },
          "metadata": {},
          "execution_count": 87
        }
      ]
    },
    {
      "cell_type": "code",
      "source": [
        "#Model Coefficients\n",
        "coeff_df = pd.DataFrame(lr.coef_, X_encoded.columns, columns=['Coefficient'])\n",
        "print(\"\\nModel Coefficients:\\n\", coeff_df)\n",
        "print(\"\\nIntercept:\", lr.intercept_)"
      ],
      "metadata": {
        "colab": {
          "base_uri": "https://localhost:8080/"
        },
        "id": "FaigdHRHcIYF",
        "outputId": "ef8ed4af-f569-4925-9dfd-bfc8de409faf"
      },
      "execution_count": 90,
      "outputs": [
        {
          "output_type": "stream",
          "name": "stdout",
          "text": [
            "\n",
            "Model Coefficients:\n",
            "                                                Coefficient\n",
            "reading score                                     0.294750\n",
            "writing score                                     0.673354\n",
            "gender_male                                      13.056626\n",
            "lunch_standard                                    3.587218\n",
            "test preparation course_none                      2.932931\n",
            "parental level of education_bachelor's degree    -0.686297\n",
            "parental level of education_high school           0.652560\n",
            "parental level of education_master's degree      -1.697964\n",
            "parental level of education_some college          0.844976\n",
            "parental level of education_some high school      0.465562\n",
            "\n",
            "Intercept: -10.760708167050907\n"
          ]
        }
      ]
    },
    {
      "cell_type": "code",
      "source": [
        "#Model Predictions\n",
        "y_pred = lr.predict(X_test)\n",
        "pred_df = pd.DataFrame({'Actual': y_test, 'Predicted': y_pred})\n",
        "print(\"\\nFirst 10 predictions:\\n\", pred_df.head(10))"
      ],
      "metadata": {
        "colab": {
          "base_uri": "https://localhost:8080/"
        },
        "id": "TWd70Y3mcNYe",
        "outputId": "8f0c34af-1b1f-44e8-b30c-5106018c13d7"
      },
      "execution_count": 91,
      "outputs": [
        {
          "output_type": "stream",
          "name": "stdout",
          "text": [
            "\n",
            "First 10 predictions:\n",
            "      Actual  Predicted\n",
            "521      91  77.669672\n",
            "737      53  58.692604\n",
            "740      80  78.128003\n",
            "660      74  77.924413\n",
            "411      84  83.713969\n",
            "678      81  79.856705\n",
            "626      69  65.349717\n",
            "513      54  53.019766\n",
            "859      87  75.227082\n",
            "136      51  49.872712\n"
          ]
        }
      ]
    },
    {
      "cell_type": "code",
      "source": [
        "#Model Evaluation (R²)\n",
        "from sklearn.metrics import r2_score, mean_absolute_error, mean_squared_error\n",
        "\n",
        "r2 = r2_score(y_test, y_pred)\n",
        "print(\"\\nR² score:\", r2)"
      ],
      "metadata": {
        "colab": {
          "base_uri": "https://localhost:8080/"
        },
        "id": "8oMjzFf_cTqJ",
        "outputId": "d8acf10f-aeb2-4889-854a-b65646b36d6f"
      },
      "execution_count": 92,
      "outputs": [
        {
          "output_type": "stream",
          "name": "stdout",
          "text": [
            "\n",
            "R² score: 0.8817100023084021\n"
          ]
        }
      ]
    },
    {
      "cell_type": "code",
      "source": [
        "#Model Evaluation (Errors)\n",
        "mae = mean_absolute_error(y_test, y_pred)\n",
        "mse = mean_squared_error(y_test, y_pred)\n",
        "rmse = np.sqrt(mse)\n",
        "print(f\"MAE: {mae}, MSE: {mse}, RMSE: {rmse}\")"
      ],
      "metadata": {
        "colab": {
          "base_uri": "https://localhost:8080/"
        },
        "id": "3u79tg0EcYIr",
        "outputId": "18face5a-51ef-4559-dc72-f66fe5b01dd2"
      },
      "execution_count": 93,
      "outputs": [
        {
          "output_type": "stream",
          "name": "stdout",
          "text": [
            "MAE: 4.228794806475736, MSE: 28.78449877427711, RMSE: 5.365118710175676\n"
          ]
        }
      ]
    },
    {
      "cell_type": "code",
      "source": [
        "#Residual Analysis\n",
        "residuals = y_test - y_pred\n",
        "plt.figure(figsize=(6,4))\n",
        "sns.scatterplot(x=y_pred, y=residuals)\n",
        "plt.axhline(0, color='red')\n",
        "plt.title(\"Residual Plot\")\n",
        "plt.show()"
      ],
      "metadata": {
        "colab": {
          "base_uri": "https://localhost:8080/",
          "height": 391
        },
        "id": "zBiNoDgKccjh",
        "outputId": "a9333d9c-71f6-4c27-e3a9-200aa5241e5b"
      },
      "execution_count": 94,
      "outputs": [
        {
          "output_type": "display_data",
          "data": {
            "text/plain": [
              "<Figure size 600x400 with 1 Axes>"
            ],
            "image/png": "[encoded data removed]"
          },
          "metadata": {}
        }
      ]
    },
    {
      "cell_type": "code",
      "source": [
        "#Detecting Multicollinearity\n",
        "from statsmodels.stats.outliers_influence import variance_inflation_factor\n",
        "\n",
        "# Select features\n",
        "X = df[['reading score', 'writing score', 'gender', 'lunch',\n",
        "        'test preparation course', 'parental level of education']]\n",
        "\n",
        "# Ensure numeric type\n",
        "X_encoded = X_encoded.astype(float)\n",
        "\n",
        "# Calculate VIF\n",
        "vif_data = pd.DataFrame()\n",
        "vif_data[\"feature\"] = X_encoded.columns\n",
        "vif_data[\"VIF\"] = [variance_inflation_factor(X_encoded.values, i) for i in range(X_encoded.shape[1])]\n",
        "\n",
        "print(\"VIF Data:\\n\", vif_data)\n"
      ],
      "metadata": {
        "colab": {
          "base_uri": "https://localhost:8080/"
        },
        "id": "c91cUbm9hVuR",
        "outputId": "62956a4e-c3d9-4f8b-fdec-763327d5ff66"
      },
      "execution_count": 103,
      "outputs": [
        {
          "output_type": "stream",
          "name": "stdout",
          "text": [
            "VIF Data:\n",
            "                                          feature         VIF\n",
            "0                                  reading score  295.397887\n",
            "1                                  writing score  285.081426\n",
            "2                                    gender_male    1.875701\n",
            "3                                 lunch_standard    3.106561\n",
            "4                   test preparation course_none    2.656059\n",
            "5  parental level of education_bachelor's degree    1.526666\n",
            "6        parental level of education_high school    1.722831\n",
            "7    parental level of education_master's degree    1.280326\n",
            "8       parental level of education_some college    1.905893\n",
            "9   parental level of education_some high school    1.647022\n"
          ]
        }
      ]
    },
    {
      "cell_type": "code",
      "source": [
        "# Handling multicollinearity\n",
        "# If VIF > 10 for a feature (e.g., writing score), we can drop it\n",
        "X_encoded_reduced = X_encoded.drop('writing score', axis=1)\n",
        "print(\"\\nFeatures after dropping high-VIF column:\\n\", X_encoded_reduced.head())"
      ],
      "metadata": {
        "colab": {
          "base_uri": "https://localhost:8080/"
        },
        "id": "TAXqJS0bePLt",
        "outputId": "eb4d975a-d1f1-4361-9b71-76db2af8944f"
      },
      "execution_count": 109,
      "outputs": [
        {
          "output_type": "stream",
          "name": "stdout",
          "text": [
            "\n",
            "Features after dropping high-VIF column:\n",
            "    reading score  gender_male  lunch_standard  test preparation course_none  \\\n",
            "0             72        False            True                          True   \n",
            "1             90        False            True                         False   \n",
            "2             95        False            True                          True   \n",
            "3             57         True           False                          True   \n",
            "4             78         True            True                          True   \n",
            "\n",
            "   parental level of education_bachelor's degree  \\\n",
            "0                                           True   \n",
            "1                                          False   \n",
            "2                                          False   \n",
            "3                                          False   \n",
            "4                                          False   \n",
            "\n",
            "   parental level of education_high school  \\\n",
            "0                                    False   \n",
            "1                                    False   \n",
            "2                                    False   \n",
            "3                                    False   \n",
            "4                                    False   \n",
            "\n",
            "   parental level of education_master's degree  \\\n",
            "0                                        False   \n",
            "1                                        False   \n",
            "2                                         True   \n",
            "3                                        False   \n",
            "4                                        False   \n",
            "\n",
            "   parental level of education_some college  \\\n",
            "0                                     False   \n",
            "1                                      True   \n",
            "2                                     False   \n",
            "3                                     False   \n",
            "4                                      True   \n",
            "\n",
            "   parental level of education_some high school  \n",
            "0                                         False  \n",
            "1                                         False  \n",
            "2                                         False  \n",
            "3                                         False  \n",
            "4                                         False  \n"
          ]
        }
      ]
    },
    {
      "cell_type": "code",
      "source": [
        "#Visualization\n",
        "# Actual vs Predicted\n",
        "plt.figure(figsize=(6,4))\n",
        "sns.scatterplot(x=y_test, y=y_pred)\n",
        "plt.plot([y_test.min(), y_test.max()], [y_test.min(), y_test.max()], 'r--')\n",
        "plt.title(\"Actual vs Predicted\")\n",
        "plt.show()"
      ],
      "metadata": {
        "colab": {
          "base_uri": "https://localhost:8080/",
          "height": 410
        },
        "id": "vk6W0f80crbO",
        "outputId": "5d241fd6-f8fc-49ac-aafb-d94eed49001d"
      },
      "execution_count": 110,
      "outputs": [
        {
          "output_type": "display_data",
          "data": {
            "text/plain": [
              "<Figure size 600x400 with 1 Axes>"
            ],
            "image/png": "[encoded data removed]"
          },
          "metadata": {}
        }
      ]
    },
    {
      "cell_type": "code",
      "source": [
        "# Residual histogram\n",
        "plt.figure(figsize=(6,4))\n",
        "sns.histplot(residuals, kde=True)\n",
        "plt.title(\"Residual Distribution\")\n",
        "plt.show()"
      ],
      "metadata": {
        "colab": {
          "base_uri": "https://localhost:8080/",
          "height": 410
        },
        "id": "9oPLO0N_cvaS",
        "outputId": "627540fa-6418-446b-e867-57580df8afef"
      },
      "execution_count": 111,
      "outputs": [
        {
          "output_type": "display_data",
          "data": {
            "text/plain": [
              "<Figure size 600x400 with 1 Axes>"
            ],
            "image/png": "[encoded data removed]"
          },
          "metadata": {}
        }
      ]
    },
    {
      "cell_type": "code",
      "source": [
        "#Feature Importance\n",
        "coeff_df_sorted = coeff_df.reindex(coeff_df['Coefficient'].abs().sort_values(ascending=False).index)\n",
        "print(\"\\nFeature importance ranking:\\n\", coeff_df_sorted)"
      ],
      "metadata": {
        "colab": {
          "base_uri": "https://localhost:8080/"
        },
        "id": "MHZdPpYFcyTt",
        "outputId": "bfa205b1-e76f-4dc5-b92a-17f0d1a0f127"
      },
      "execution_count": 112,
      "outputs": [
        {
          "output_type": "stream",
          "name": "stdout",
          "text": [
            "\n",
            "Feature importance ranking:\n",
            "                                                Coefficient\n",
            "gender_male                                      13.056626\n",
            "lunch_standard                                    3.587218\n",
            "test preparation course_none                      2.932931\n",
            "parental level of education_master's degree      -1.697964\n",
            "parental level of education_some college          0.844976\n",
            "parental level of education_bachelor's degree    -0.686297\n",
            "writing score                                     0.673354\n",
            "parental level of education_high school           0.652560\n",
            "parental level of education_some high school      0.465562\n",
            "reading score                                     0.294750\n"
          ]
        }
      ]
    },
    {
      "cell_type": "code",
      "source": [
        "#Model Limitations\n",
        "print(\"\\nModel Limitations:\")\n",
        "print(\"- Cannot capture non-linear relationships\")\n",
        "print(\"- Sensitive to outliers\")\n",
        "print(\"- Overfitting possible if too many correlated features\")"
      ],
      "metadata": {
        "colab": {
          "base_uri": "https://localhost:8080/"
        },
        "id": "NmTvMo80c3ad",
        "outputId": "3241a28f-d7a7-480b-8156-c81fbbc2a469"
      },
      "execution_count": 113,
      "outputs": [
        {
          "output_type": "stream",
          "name": "stdout",
          "text": [
            "\n",
            "Model Limitations:\n",
            "- Cannot capture non-linear relationships\n",
            "- Sensitive to outliers\n",
            "- Overfitting possible if too many correlated features\n"
          ]
        }
      ]
    },
    {
      "cell_type": "code",
      "source": [
        "#Real-World Applications\n",
        "print(\"\\nApplications:\")\n",
        "print(\"- Education: Predicting student success\")\n",
        "print(\"- Finance: Predicting loan default\")\n",
        "print(\"- Healthcare: Predicting recovery times\")"
      ],
      "metadata": {
        "colab": {
          "base_uri": "https://localhost:8080/"
        },
        "id": "3rj5N9i0c9E5",
        "outputId": "c3a87f81-a7f2-4582-dd10-7e143b6ed2b7"
      },
      "execution_count": 114,
      "outputs": [
        {
          "output_type": "stream",
          "name": "stdout",
          "text": [
            "\n",
            "Applications:\n",
            "- Education: Predicting student success\n",
            "- Finance: Predicting loan default\n",
            "- Healthcare: Predicting recovery times\n"
          ]
        }
      ]
    },
    {
      "cell_type": "code",
      "source": [
        "#Conclusion\n",
        "print(\"\\nConclusion: Multiple Linear Regression is simple, interpretable, and effective if assumptions hold.\")"
      ],
      "metadata": {
        "colab": {
          "base_uri": "https://localhost:8080/"
        },
        "id": "oeRQ-CWMdAtl",
        "outputId": "00dcc5c4-2ed0-4327-8d58-bcae6124755e"
      },
      "execution_count": 115,
      "outputs": [
        {
          "output_type": "stream",
          "name": "stdout",
          "text": [
            "\n",
            "Conclusion: Multiple Linear Regression is simple, interpretable, and effective if assumptions hold.\n"
          ]
        }
      ]
    },
    {
      "cell_type": "code",
      "source": [],
      "metadata": {
        "id": "sslNUOTBdGxO"
      },
      "execution_count": 115,
      "outputs": []
    }
  ]
}