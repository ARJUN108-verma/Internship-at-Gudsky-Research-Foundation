{
  "nbformat": 4,
  "nbformat_minor": 0,
  "metadata": {
    "colab": {
      "private_outputs": true,
      "provenance": [],
      "authorship_tag": "ABX9TyPvJRcKnPNCzWURsPbjYZ7o",
      "include_colab_link": true
    },
    "kernelspec": {
      "name": "python3",
      "display_name": "Python 3"
    },
    "language_info": {
      "name": "python"
    }
  },
  "cells": [
    {
      "cell_type": "markdown",
      "metadata": {
        "id": "view-in-github",
        "colab_type": "text"
      },
      "source": [
        "<a href=\"https://colab.research.google.com/github/ARJUN108-verma/Internship-at-Gudsky-Research-Foundation/blob/main/1_Simple_Chatbot.ipynb\" target=\"_parent\"><img src=\"https://colab.research.google.com/assets/colab-badge.svg\" alt=\"Open In Colab\"/></a>"
      ]
    },
    {
      "cell_type": "markdown",
      "source": [
        "Creating Simple Chatbot:-"
      ],
      "metadata": {
        "id": "vVz1PA-u50My"
      }
    },
    {
      "cell_type": "code",
      "execution_count": null,
      "metadata": {
        "id": "exoLWp715aoP"
      },
      "outputs": [],
      "source": [
        "responses = {\n",
        "    \"hello\": [\"Hi there!\", \"Hello!\", \"Hey! How can I help you?\",],\n",
        "    \"hi\": [\"Hi there!\", \"Hello!\", \"Hey! How can I help you?\"],\n",
        "    \"hey\": [\"Hi there!\", \"Hello!\", \"Hey! How can I help you?\"],\n",
        "    \"how are you\": [\n",
        "        \"I'm doing great, thank you for asking!\",\n",
        "        \"I'm just a computer program, but I'm functioning well.\"\n",
        "    ],\n",
        "    \"name\": [\n",
        "        \"You can call me Simple Robot.\",\n",
        "        \"My name is Chatbot given by ARJUN\"\n",
        "    ],\n",
        "    \"age\": [\n",
        "        \"I don't have an age, as I am a program.\",\n",
        "        \"I was created recently, so I'm quite young in computer years.\"\n",
        "    ],\n",
        "    \"your creator\": [\n",
        "        \"I was created by a developer name AI Engineer: ARJUN KUMAR VERMA.\",\n",
        "        \"A programmer brought me to life.\"\n",
        "    ],\n",
        "    \"thanks\": [\"You're welcome!\", \"No problem!\"],\n",
        "    \"bye\": [\"Goodbye!\", \"See you later!\", \"It was nice chatting with you!\"],\n",
        "    \"quit\": [\"Goodbye!\", \"See you later!\", \"It was nice chatting with you!\"]\n",
        "}"
      ]
    },
    {
      "cell_type": "code",
      "source": [
        "default_responses = [\n",
        "    \"I'm not sure how to respond to that.\",\n",
        "    \"Can you please rephrase that?\",\n",
        "    \"I don't understand.\",\n",
        "    \"Could you tell me more about what you mean?\",\n",
        "    \"That's interesting. What else can you tell me?\"\n",
        "]"
      ],
      "metadata": {
        "id": "EOW60TI97423"
      },
      "execution_count": null,
      "outputs": []
    },
    {
      "cell_type": "code",
      "source": [
        "import random\n",
        "\n",
        "def get_response(user_input):\n",
        "    user_input_lower = user_input.lower()\n",
        "\n",
        "    # Iterate through defined keywords\n",
        "    for keyword, possible_responses in responses.items():\n",
        "        if keyword in user_input_lower:\n",
        "            return random.choice(possible_responses)\n",
        "\n",
        "    # If no keyword is found, return a default response\n",
        "    return random.choice(default_responses)\n"
      ],
      "metadata": {
        "id": "cfvOfy6H-lXQ"
      },
      "execution_count": null,
      "outputs": []
    },
    {
      "cell_type": "code",
      "source": [
        "def start_simple_chatbot():\n",
        "    print(\"Welcome! I'm a very simple keyword-based chatbot.\")\n",
        "    print(\"Type 'bye' or 'quit' to end the conversation.\")\n",
        "    print(\"-\" * 50)\n",
        "\n",
        "    while True:\n",
        "        user_input = input(\"You: \")\n",
        "\n",
        "        # Check for explicit quit commands first\n",
        "        if user_input.lower() in [\"bye\", \"quit\"]:\n",
        "            print(\"ChatBot: Goodbye! Have a great day!\")\n",
        "            break\n",
        "\n",
        "        # Get and print the chatbot's response\n",
        "        response = get_response(user_input)\n",
        "        print(f\"ChatBot: {response}\")\n"
      ],
      "metadata": {
        "id": "_JQqNxeb_QEF"
      },
      "execution_count": null,
      "outputs": []
    },
    {
      "cell_type": "code",
      "source": [
        "start_simple_chatbot()"
      ],
      "metadata": {
        "id": "XqSTQ8hxBkmi"
      },
      "execution_count": null,
      "outputs": []
    },
    {
      "cell_type": "code",
      "source": [],
      "metadata": {
        "id": "kwJqBtk5B6m5"
      },
      "execution_count": null,
      "outputs": []
    }
  ]
}