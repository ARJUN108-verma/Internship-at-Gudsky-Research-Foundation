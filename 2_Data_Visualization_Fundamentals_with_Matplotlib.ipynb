{
  "nbformat": 4,
  "nbformat_minor": 0,
  "metadata": {
    "colab": {
      "private_outputs": true,
      "provenance": [],
      "authorship_tag": "ABX9TyOl7Nkz4hGtRHpCEhjuHUh7",
      "include_colab_link": true
    },
    "kernelspec": {
      "name": "python3",
      "display_name": "Python 3"
    },
    "language_info": {
      "name": "python"
    }
  },
  "cells": [
    {
      "cell_type": "markdown",
      "metadata": {
        "id": "view-in-github",
        "colab_type": "text"
      },
      "source": [
        "<a href=\"https://colab.research.google.com/github/ARJUN108-verma/Internship-at-Gudsky-Research-Foundation/blob/main/2_Data_Visualization_Fundamentals_with_Matplotlib.ipynb\" target=\"_parent\"><img src=\"https://colab.research.google.com/assets/colab-badge.svg\" alt=\"Open In Colab\"/></a>"
      ]
    },
    {
      "cell_type": "markdown",
      "source": [
        "# Data Visualization Fundamentals with Matplotlib\n",
        "\n"
      ],
      "metadata": {
        "id": "ry9cmwlvNjI1"
      }
    },
    {
      "cell_type": "code",
      "execution_count": null,
      "metadata": {
        "id": "AfAiB3NFBt03"
      },
      "outputs": [],
      "source": [
        "# Matplotlib\n",
        "### Matplotlib is a popular python library which is used for data visualization and . it helps to create statics, animated and interactivr graphs, ##"
      ]
    },
    {
      "cell_type": "code",
      "source": [
        "!pip install Matplotlib"
      ],
      "metadata": {
        "id": "iiqxUrT_DY6D"
      },
      "execution_count": null,
      "outputs": []
    },
    {
      "cell_type": "code",
      "source": [
        "import matplotlib.pyplot as plt"
      ],
      "metadata": {
        "id": "pvKD58hHDdea"
      },
      "execution_count": null,
      "outputs": []
    },
    {
      "cell_type": "code",
      "source": [
        "#Line chart- it is udsed to show the trends over the time."
      ],
      "metadata": {
        "id": "tyeavPeNN9Xn"
      },
      "execution_count": null,
      "outputs": []
    },
    {
      "cell_type": "code",
      "source": [
        "a = [2, 6, 1, 8, 5]\n",
        "plt.plot(a, marker = \"*\")\n",
        "plt.xlabel(\"X-axis\")\n",
        "plt.ylabel(\"Y-axis\")\n",
        "plt.title(\"Line Graph\")\n",
        "plt.grid()\n",
        "plt.show()"
      ],
      "metadata": {
        "id": "6cJzMYWSOD1l"
      },
      "execution_count": null,
      "outputs": []
    },
    {
      "cell_type": "markdown",
      "source": [
        "Bar chart:- Bar chart is used for compare the quantities across the quantities across the categories"
      ],
      "metadata": {
        "id": "dxHMU6vAOMxF"
      }
    },
    {
      "cell_type": "code",
      "source": [
        "x =  ['A', 'B', 'C', 'D', 'E']\n",
        "Y = [45, 27, 54, 108, 72]\n",
        "\n",
        "plt.bar(x, Y, color = \"grey\")\n",
        "plt.show()\n"
      ],
      "metadata": {
        "id": "W7DKGl8EOG40"
      },
      "execution_count": null,
      "outputs": []
    },
    {
      "cell_type": "code",
      "source": [
        "plt.barh(x, Y, color= 'red')\n",
        "plt.show()"
      ],
      "metadata": {
        "id": "HEJSCIWbOTv0"
      },
      "execution_count": null,
      "outputs": []
    },
    {
      "cell_type": "markdown",
      "source": [
        "Multiple line plot"
      ],
      "metadata": {
        "id": "LNnt9KJOOlUW"
      }
    },
    {
      "cell_type": "markdown",
      "source": [
        "# This is formatted as code"
      ],
      "metadata": {
        "id": "DR8AR3efOmdE"
      }
    },
    {
      "cell_type": "code",
      "source": [
        "X = [2, 4, 6, 8 , 10]\n",
        "y = [3, 5, 7, 9, 11]\n",
        "y1 = [4, 5, 9, 15, 18]\n",
        "y2 = [5,3 , 7, 11, 15]\n",
        "\n",
        "plt.plot(X, y, marker= 'o', color = 'red')\n",
        "plt.plot(X, y1, marker= '*', color = 'blue')\n",
        "plt.plot(X, y2, marker = '+', color = 'green')\n",
        "plt.show()"
      ],
      "metadata": {
        "id": "KfG54lG_OZ8i"
      },
      "execution_count": null,
      "outputs": []
    },
    {
      "cell_type": "markdown",
      "source": [
        "Histogram:-"
      ],
      "metadata": {
        "id": "offWPkbfOwls"
      }
    },
    {
      "cell_type": "markdown",
      "source": [
        "Histogram is used to show the frequency distribution of data."
      ],
      "metadata": {
        "id": "rXPmlPiPOx8U"
      }
    },
    {
      "cell_type": "code",
      "source": [
        "import numpy as np\n",
        "\n",
        "data = np.random.randn(1000)\n",
        "plt.hist(data, bins = 30, color = 'green')\n",
        "plt.grid()\n",
        "plt.show()"
      ],
      "metadata": {
        "id": "8XsR8WM6Oso8"
      },
      "execution_count": null,
      "outputs": []
    },
    {
      "cell_type": "markdown",
      "source": [
        "Pie chart:-"
      ],
      "metadata": {
        "id": "E0Rv88MvO_Kv"
      }
    },
    {
      "cell_type": "markdown",
      "source": [
        "Pie chart is a used for showing the data proportions and percentage."
      ],
      "metadata": {
        "id": "nqokMKRoPA-8"
      }
    },
    {
      "cell_type": "code",
      "source": [
        "a = ['C++', 'Java', 'Python', 'R']\n",
        "b = [20, 35, 40, 10]\n",
        "\n",
        "plt.pie(b, labels = a,autopct= '%1.1f%%', colors = ['red', 'blue', 'green', 'yellow'], startangle = 90)\n",
        "plt.show()"
      ],
      "metadata": {
        "id": "hxzttyhZO4L3"
      },
      "execution_count": null,
      "outputs": []
    },
    {
      "cell_type": "markdown",
      "source": [
        "scatter plot:-"
      ],
      "metadata": {
        "id": "EAgCd7X3PLOW"
      }
    },
    {
      "cell_type": "markdown",
      "source": [
        "scatter plot is used to show the relationship between two variables."
      ],
      "metadata": {
        "id": "1dyocoOiPMbM"
      }
    },
    {
      "cell_type": "code",
      "source": [
        "v = np.random.randn(10)\n",
        "n = np.random.randn(10)\n",
        "\n",
        "g = [2, 4, 6, 8, 10, 12, 14,16, 18, 20]\n",
        "h = [3, 6, 9, 12, 15, 18, 21, 24, 27, 30]\n",
        "plt.scatter(g, h)\n",
        "plt.scatter(v, n, color = 'yellow')\n",
        "plt.show()"
      ],
      "metadata": {
        "id": "YZHfsmnsPHWa"
      },
      "execution_count": null,
      "outputs": []
    },
    {
      "cell_type": "markdown",
      "source": [
        "Box plot :-"
      ],
      "metadata": {
        "id": "uZnr_bDvPWf2"
      }
    },
    {
      "cell_type": "markdown",
      "source": [
        "Box plot is used for show the statistics summary like median, quartile, outliers."
      ],
      "metadata": {
        "id": "7gj1JBh9PZYP"
      }
    },
    {
      "cell_type": "code",
      "source": [
        "x = [21, 11, 14, 18, 19, 10, 23, 20, 90]\n",
        "plt.boxplot(x)\n",
        "plt.show()"
      ],
      "metadata": {
        "id": "UE9mpNgOPS5D"
      },
      "execution_count": null,
      "outputs": []
    },
    {
      "cell_type": "code",
      "source": [],
      "metadata": {
        "id": "Ij9qjYZ7PdbC"
      },
      "execution_count": null,
      "outputs": []
    }
  ]
}